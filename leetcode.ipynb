{
 "cells": [
  {
   "cell_type": "code",
   "execution_count": 13,
   "metadata": {},
   "outputs": [],
   "source": [
    "\n",
    "numbers = []\n",
    "\n",
    "def two_sum(nums, target):\n",
    "\n",
    "    target_map = {}\n",
    "\n",
    "    for i in range(len(nums)):\n",
    "        diff = target - nums[i]\n",
    "        if diff in target_map:\n",
    "            return [i, target_map[diff]]\n",
    "        target_map[nums[i]] = i\n",
    "\n",
    "\n"
   ]
  },
  {
   "cell_type": "code",
   "execution_count": 17,
   "metadata": {},
   "outputs": [
    {
     "data": {
      "text/plain": [
       "[2, 1]"
      ]
     },
     "execution_count": 17,
     "metadata": {},
     "output_type": "execute_result"
    }
   ],
   "source": [
    "two_sum([3, 2, 4], 6)"
   ]
  },
  {
   "cell_type": "code",
   "execution_count": 18,
   "metadata": {},
   "outputs": [
    {
     "data": {
      "text/plain": [
       "[2, 1]"
      ]
     },
     "execution_count": 18,
     "metadata": {},
     "output_type": "execute_result"
    }
   ],
   "source": [
    "def two_sum2(nums, target):\n",
    "\n",
    "    for i in range(len(nums)):\n",
    "        for j in range(len(nums)):\n",
    "            if (i  != j and nums[i] + nums[j] == target) :\n",
    "                return [j, i]\n",
    "            \n",
    "two_sum2([3, 2, 4], 6)\n",
    "    "
   ]
  },
  {
   "cell_type": "markdown",
   "metadata": {},
   "source": [
    "[3, 4, 2]"
   ]
  },
  {
   "cell_type": "code",
   "execution_count": null,
   "metadata": {},
   "outputs": [],
   "source": [
    "def two_sum3(nums, target):\n",
    "\n",
    "    array = []\n",
    "\n",
    "    for i in range(len(nums)):\n",
    "        array.append(nums[i] - target)\n",
    "        if (i == len(nums) - 1):\n",
    "            array.append()\n",
    "\n",
    "    array\n",
    "\n",
    "\n",
    "    [3, 2, 4]      [3, 4, 2]\n",
    "    \n",
    "\n",
    "\n",
    "\n",
    "\n",
    "        \n"
   ]
  },
  {
   "cell_type": "markdown",
   "metadata": {},
   "source": [
    "implement the add one methoodlogy to generate all the combinations thereafter or as much as you actually need"
   ]
  }
 ],
 "metadata": {
  "kernelspec": {
   "display_name": "Python 3",
   "language": "python",
   "name": "python3"
  },
  "language_info": {
   "codemirror_mode": {
    "name": "ipython",
    "version": 3
   },
   "file_extension": ".py",
   "mimetype": "text/x-python",
   "name": "python",
   "nbconvert_exporter": "python",
   "pygments_lexer": "ipython3",
   "version": "3.8.2"
  }
 },
 "nbformat": 4,
 "nbformat_minor": 2
}
